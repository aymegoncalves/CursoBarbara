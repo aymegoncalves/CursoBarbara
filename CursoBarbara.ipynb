{
  "nbformat": 4,
  "nbformat_minor": 0,
  "metadata": {
    "colab": {
      "provenance": [],
      "authorship_tag": "ABX9TyOivu3W4PV4I7LfjMA3rKsT",
      "include_colab_link": true
    },
    "kernelspec": {
      "name": "python3",
      "display_name": "Python 3"
    },
    "language_info": {
      "name": "python"
    }
  },
  "cells": [
    {
      "cell_type": "markdown",
      "metadata": {
        "id": "view-in-github",
        "colab_type": "text"
      },
      "source": [
        "<a href=\"https://colab.research.google.com/github/aymegoncalves/CursoBarbara/blob/main/CursoBarbara.ipynb\" target=\"_parent\"><img src=\"https://colab.research.google.com/assets/colab-badge.svg\" alt=\"Open In Colab\"/></a>"
      ]
    },
    {
      "cell_type": "code",
      "execution_count": null,
      "metadata": {
        "colab": {
          "base_uri": "https://localhost:8080/"
        },
        "id": "B4l9Oy5UEtRc",
        "outputId": "a2dc89f7-c433-4f21-d88d-67ec2442d7c6"
      },
      "outputs": [
        {
          "output_type": "stream",
          "name": "stdout",
          "text": [
            "Quantidade de amigas:4\n",
            "Nome:ayme\n",
            "Idade:21\n",
            "Nome:karol\n",
            "Idade:19\n",
            "Nome:julia\n",
            "Idade:20\n",
            "Nome:maria\n",
            "Idade:25\n",
            "Vocês poderão entrar no Pie in the Sky\n"
          ]
        }
      ],
      "source": [
        "amigas = int (input (\"Quantidade de amigas:\"))\n",
        "soma = 0\n",
        "\n",
        "for i in range(0,amigas):\n",
        "  nome = input (\"Nome:\")\n",
        "  idade = int (input (\"Idade:\"))\n",
        "  soma += idade\n",
        "\n",
        "if (soma >= 77):\n",
        "  print(\"Vocês poderão entrar no Pie in the Sky\")\n",
        "else:\n",
        "    print(\"Vocês não poderão entrar no Pie in the Sky\")\n"
      ]
    },
    {
      "cell_type": "code",
      "source": [
        "quantidade = 0\n",
        "for i in range(0, 150):\n",
        "  produto = input (\"Digite o nome do produto:\")\n",
        "  if (produto == \"\"):\n",
        "    break\n",
        "  quantidade += 1\n",
        "print(\"A quantidade de produtos comprados foi:\",quantidade)"
      ],
      "metadata": {
        "colab": {
          "base_uri": "https://localhost:8080/"
        },
        "id": "cn3gKIQEUgtX",
        "outputId": "1a024107-7483-4092-8890-e90ca59f186d"
      },
      "execution_count": null,
      "outputs": [
        {
          "output_type": "stream",
          "name": "stdout",
          "text": [
            "Digite o nome do produto:queijo\n",
            "Digite o nome do produto:arroz\n",
            "Digite o nome do produto:\n",
            "A quantidade de produtos comprados foi: 2\n"
          ]
        }
      ]
    },
    {
      "cell_type": "code",
      "source": [
        "senha = \"2c2r\"\n",
        "tentativa = input(\"Digite a senha: \")\n",
        "while tentativa != senha:\n",
        "  print(\"Senha incorreta\")\n",
        "  tentativa = input(\"Digite a senha: \")\n",
        "\n",
        "print(\"Você acertou a senha!\")"
      ],
      "metadata": {
        "colab": {
          "base_uri": "https://localhost:8080/"
        },
        "id": "TKVvf0NhZ7Es",
        "outputId": "ebe2787f-82fb-43c7-9f65-e66da1efd449"
      },
      "execution_count": null,
      "outputs": [
        {
          "output_type": "stream",
          "name": "stdout",
          "text": [
            "Digite a senha: s2r3\n",
            "Senha incorreta\n",
            "Digite a senha: 2c2r\n",
            "Você acertou a senha!\n"
          ]
        }
      ]
    },
    {
      "cell_type": "code",
      "source": [
        "senha = ''\n",
        "\n",
        "while True:\n",
        "  senha = input(\"Digite a senha:\")\n",
        "  if senha == \"2c2r\":\n",
        "    print(\"Você acvertou a senha!\")\n",
        "    break"
      ],
      "metadata": {
        "colab": {
          "base_uri": "https://localhost:8080/"
        },
        "id": "HZSUhyIMcbf-",
        "outputId": "472b7123-d862-4aa7-f464-aafa7c8d5e44"
      },
      "execution_count": null,
      "outputs": [
        {
          "output_type": "stream",
          "name": "stdout",
          "text": [
            "Digite a senha:etuh\n",
            "Digite a senha:2c2r\n",
            "Você acvertou a senha!\n"
          ]
        }
      ]
    },
    {
      "cell_type": "code",
      "source": [
        "while True:\n",
        "  nome = input(\"Digite o nome do produto: \")\n",
        "  tamanho = input(\"Digite o tamanho do produto: \")\n",
        "  cor = input(\"Digite a cor do produto: \")\n",
        "  preço = input(\"Digite a preço do produto: \")\n",
        "  quantidade = input(\"Digite a quantidade do produto em estoque: \")\n",
        "\n",
        "  produto = input(\"Você deseja inserir informações de outro produto? Digite sim ou não: \")\n",
        "  if (produto == \"não\"):\n",
        "    break;"
      ],
      "metadata": {
        "colab": {
          "base_uri": "https://localhost:8080/"
        },
        "id": "HiKMFfH0gfzu",
        "outputId": "6e528081-d4c4-4a6d-f9b4-f1f2a7d36c49"
      },
      "execution_count": null,
      "outputs": [
        {
          "name": "stdout",
          "output_type": "stream",
          "text": [
            "Digite o nome do produto: papel\n",
            "Digite o tamanho do produto: \n",
            "Digite a cor do produto: rosa\n",
            "Digite a preço do produto: R$4\n",
            "Digite a quantidade do produto em estoque: 5\n",
            "Você deseja inserir informações de outro produto? Digite sim ou não: não\n"
          ]
        }
      ]
    },
    {
      "cell_type": "code",
      "source": [
        "faltas = [0,3,0,0,0,1,2,1,1,0]\n",
        "for i in range (10):\n",
        "  print (\"Aluna \", i+1,  \"-\", faltas[i], \" faltas.\")"
      ],
      "metadata": {
        "colab": {
          "base_uri": "https://localhost:8080/"
        },
        "id": "f_7HiSG_CNbq",
        "outputId": "c3e94987-18df-4cdb-f009-3459b239a9f7"
      },
      "execution_count": null,
      "outputs": [
        {
          "output_type": "stream",
          "name": "stdout",
          "text": [
            "Aluna  1 - 0  faltas.\n",
            "Aluna  2 - 3  faltas.\n",
            "Aluna  3 - 0  faltas.\n",
            "Aluna  4 - 0  faltas.\n",
            "Aluna  5 - 0  faltas.\n",
            "Aluna  6 - 1  faltas.\n",
            "Aluna  7 - 2  faltas.\n",
            "Aluna  8 - 1  faltas.\n",
            "Aluna  9 - 1  faltas.\n",
            "Aluna  10 - 0  faltas.\n"
          ]
        }
      ]
    },
    {
      "cell_type": "code",
      "source": [
        "faltas = [0,3,0,0,0,1,2,1,1,0]\n",
        "\n",
        "while True:\n",
        "  numero = int(input(\"Digite o número de chamada da aluna:\"))\n",
        "  print(\"Faltas: \",faltas[numero-1])\n",
        "  if (faltas[numero-1] > 3):\n",
        "    print(\"A aluna não obterá certicado\")\n",
        "  else:\n",
        "    print(\"A aluna obterá certicado\")\n",
        "  if (numero == 10):\n",
        "    break"
      ],
      "metadata": {
        "colab": {
          "base_uri": "https://localhost:8080/"
        },
        "id": "JpfaaxgqEoP0",
        "outputId": "56f03195-47fb-4045-ece3-6dfd494219e3"
      },
      "execution_count": null,
      "outputs": [
        {
          "output_type": "stream",
          "name": "stdout",
          "text": [
            "Digite o número de chamada da aluna:1\n",
            "Faltas:  0\n",
            "A aluna obterá certicado\n",
            "Digite o número de chamada da aluna:2\n",
            "Faltas:  3\n",
            "A aluna obterá certicado\n",
            "Digite o número de chamada da aluna:10\n",
            "Faltas:  0\n",
            "A aluna obterá certicado\n"
          ]
        }
      ]
    },
    {
      "cell_type": "code",
      "source": [
        "faltas[2] = 2\n",
        "faltas[7] = 3\n",
        "print(faltas)"
      ],
      "metadata": {
        "colab": {
          "base_uri": "https://localhost:8080/"
        },
        "id": "TrVmybM4LQuD",
        "outputId": "cf51de13-1cec-401a-9a92-1c8c0e44fc50"
      },
      "execution_count": null,
      "outputs": [
        {
          "output_type": "stream",
          "name": "stdout",
          "text": [
            "[0, 3, 2, 0, 0, 1, 2, 3, 1, 0]\n"
          ]
        }
      ]
    },
    {
      "cell_type": "code",
      "source": [
        "print(\"Olá Marcela, crie uma lista de tarefas do dia, digite fim quando não quiser mais inserir uma nova tarefa. Bons estudos!\")\n",
        "tarefas = []\n",
        "while True:\n",
        "  item = input(\"Insira uma nova tarefa:\")\n",
        "  if (item == \"fim\"):\n",
        "    break\n",
        "  tarefas.append(item)\n",
        "print(tarefas)\n",
        "print(\"Quantidade de tarefas:\",len(tarefas))"
      ],
      "metadata": {
        "colab": {
          "base_uri": "https://localhost:8080/"
        },
        "id": "nKVfFES4NPrT",
        "outputId": "26714ba2-99b9-4e95-907c-90c4032bed90"
      },
      "execution_count": null,
      "outputs": [
        {
          "output_type": "stream",
          "name": "stdout",
          "text": [
            "Olá Marcela, crie uma lista de tarefas do dia, digite fim quando não quiser mais inserir uma nova tarefa. Bons estudos!\n",
            "Insira uma nova tarefa:iedo\n",
            "Insira uma nova tarefa:programação\n",
            "Insira uma nova tarefa:fim\n",
            "['iedo', 'programação']\n",
            "Quantidade de tarefas: 2\n"
          ]
        }
      ]
    },
    {
      "cell_type": "code",
      "source": [
        "estoque = []\n",
        "while True:\n",
        "  lista = []\n",
        "  nome = input(\"Digite o nome do produto: \")\n",
        "  tamanho = input(\"Digite o tamanho do produto: \")\n",
        "  cor = input(\"Digite a cor do produto: \")\n",
        "  preço = float(input(\"Digite a preço do produto: \"))\n",
        "  quantidade = int(input(\"Digite a quantidade do produto em estoque: \"))\n",
        "  lista.append(nome)\n",
        "  lista.append(tamanho)\n",
        "  lista.append(cor)\n",
        "  lista.append(preço)\n",
        "  lista.append(quantidade)\n",
        "\n",
        "  print (lista)\n",
        "  estoque.append(lista)\n",
        "  produto = input(\"Você deseja inserir informações de outro produto? Digite sim ou não: \")\n",
        "  if (produto == \"não\"):\n",
        "    print(estoque)\n",
        "    break"
      ],
      "metadata": {
        "colab": {
          "base_uri": "https://localhost:8080/"
        },
        "outputId": "525adcc3-5e07-4dfb-fe3e-5db528ab3f82",
        "id": "Nl0UqmR6WQaO"
      },
      "execution_count": null,
      "outputs": [
        {
          "output_type": "stream",
          "name": "stdout",
          "text": [
            "Digite o nome do produto: tinta\n",
            "Digite o tamanho do produto: g\n",
            "Digite a cor do produto: rosa\n",
            "Digite a preço do produto: 5\n",
            "Digite a quantidade do produto em estoque: 10\n",
            "['tinta', 'g', 'rosa', 5.0, 10]\n",
            "Você deseja inserir informações de outro produto? Digite sim ou não: sim\n",
            "Digite o nome do produto: lapis\n",
            "Digite o tamanho do produto: p\n",
            "Digite a cor do produto: azul\n",
            "Digite a preço do produto: 1\n",
            "Digite a quantidade do produto em estoque: 28\n",
            "['lapis', 'p', 'azul', 1.0, 28]\n",
            "Você deseja inserir informações de outro produto? Digite sim ou não: não\n",
            "[['tinta', 'g', 'rosa', 5.0, 10], ['lapis', 'p', 'azul', 1.0, 28]]\n"
          ]
        }
      ]
    },
    {
      "cell_type": "code",
      "source": [
        "estoque = [['tinta', 'g', 'rosa', 5.0, 10], ['lapis', 'p', 'azul', 1.0, 28]]\n",
        "\n",
        "for i in estoque:\n",
        "  print(\"{:<10} {:<10} {:<10} {:<10} {:<10}\".format(i[0],i[1],i[2],i[3],i[4]))\n"
      ],
      "metadata": {
        "colab": {
          "base_uri": "https://localhost:8080/"
        },
        "id": "rwjixFLNoIL5",
        "outputId": "a88cdd36-a527-47d5-cb34-b5e9aa30afc2"
      },
      "execution_count": null,
      "outputs": [
        {
          "output_type": "stream",
          "name": "stdout",
          "text": [
            "tinta      g          rosa       5.0        10        \n",
            "lapis      p          azul       1.0        28        \n"
          ]
        }
      ]
    },
    {
      "cell_type": "code",
      "source": [
        "notas = [3.4, 6.6, 8, 9, 10, 9.5, 8.8, 4.3]\n",
        "soma = 0\n",
        "for i in notas:\n",
        "  soma += i\n",
        "media = soma/len(notas)\n",
        "print(\"A média de notas é %.2f\"%media)"
      ],
      "metadata": {
        "colab": {
          "base_uri": "https://localhost:8080/"
        },
        "id": "9ATzxYgPgcJB",
        "outputId": "26db2816-cc7e-4005-8371-166aca6b091e"
      },
      "execution_count": null,
      "outputs": [
        {
          "output_type": "stream",
          "name": "stdout",
          "text": [
            "A média de notas é 7.45\n"
          ]
        }
      ]
    },
    {
      "cell_type": "code",
      "source": [
        "for i in range(1, 10, 1):\n",
        "  print(i)"
      ],
      "metadata": {
        "colab": {
          "base_uri": "https://localhost:8080/"
        },
        "id": "ZL8SImp_BcoB",
        "outputId": "e814324f-7d1e-43c1-b3ed-dd999f24f19f"
      },
      "execution_count": null,
      "outputs": [
        {
          "output_type": "stream",
          "name": "stdout",
          "text": [
            "1\n",
            "2\n",
            "3\n",
            "4\n",
            "5\n",
            "6\n",
            "7\n",
            "8\n",
            "9\n"
          ]
        }
      ]
    },
    {
      "cell_type": "code",
      "source": [
        "resultado = []\n",
        "for i in range(0,500):\n",
        "  satisfacao = input(\"Você está satisfeita com a  empresa? Escreva sim ou não.\")\n",
        "  resultado.append(satisfacao)"
      ],
      "metadata": {
        "id": "vP3vCYUYLP_u"
      },
      "execution_count": null,
      "outputs": []
    },
    {
      "cell_type": "code",
      "source": [
        "precos_mercado = {\"Arroz\" : 18.00, \"Feijao\" : 7.99, \"Alface\" : 1.98, \"Batata\" : 4.59, \"Macarrao\" : 2.99}\n",
        "\n",
        "while True:\n",
        "  item = input(\"Insira um produto ou digite fim: \")\n",
        "\n",
        "  if item == \"fim\":\n",
        "    break\n",
        "\n",
        "  if item in precos_mercado:\n",
        "    print(\"O preço do produto\", item, \"é R$\", precos_mercado[item])\n",
        "  else:\n",
        "    print(\"Produto não encontrado\")"
      ],
      "metadata": {
        "colab": {
          "base_uri": "https://localhost:8080/"
        },
        "id": "piGN3fAWHVw5",
        "outputId": "cb7a25ed-b7c0-494b-827d-0d66b5b867ef"
      },
      "execution_count": null,
      "outputs": [
        {
          "name": "stdout",
          "output_type": "stream",
          "text": [
            "Insira um produto ou digite fim: Arroz\n",
            "O preço do produto Arroz é R$ 18.0\n",
            "Insira um produto ou digite fim: fim\n"
          ]
        }
      ]
    },
    {
      "cell_type": "code",
      "source": [
        "playlist = []\n",
        "\n",
        "novo = input(\"Voce deseja adicionar um novo filme a playlist? Digite sim ou nao.\")\n",
        "\n",
        "while novo == \"sim\":\n",
        "  filmes = {}\n",
        "\n",
        "  amiga = input(\"Digite seu primeiro nome: \")\n",
        "  print(\"Olá {}, digite abaixo as informacoes pedidas sobre seu filme favorito.\".format(amiga))\n",
        "  nome = input(\"Nome: \")\n",
        "  genero = input(\"Gênero: \")\n",
        "  diretor = input(\"Diretor(a): \")\n",
        "  ano = input(\"Ano: \")\n",
        "  duracao = input(\"Duracao (min): \")\n",
        "\n",
        "  filmes. = {\"nome\": nome, \"genero\": genero, \"diretor\": diretor,\"ano\": ano,\"duração\": duracao,\"amiga\": amiga},\n",
        "\n",
        "  playlist.append(filmes)\n"
      ],
      "metadata": {
        "colab": {
          "base_uri": "https://localhost:8080/"
        },
        "id": "pIM5Y_etZZl9",
        "outputId": "3017921f-89d6-4c7a-c738-002820dc622c"
      },
      "execution_count": null,
      "outputs": [
        {
          "output_type": "stream",
          "name": "stdout",
          "text": [
            "Digite algumas informacoes sobre seu filme favorito\n",
            "Nome: bla\n",
            "Gênero: bla\n",
            "Diretor(a): bla\n",
            "Ano: bla\n",
            "Duracao (min): bla\n",
            "Por fim, digite seu nome: bla\n",
            "Você deseja inserir outro filme? Apenas sim ou nao. não\n",
            "Nome: bla\n",
            "Gênero: bla\n",
            "Diretor(a): bla\n",
            "Ano: bla\n",
            "Duracao (min): bla\n",
            "Por fim, digite seu nome: bla\n",
            "Você deseja inserir outro filme? Apenas sim ou nao. nao\n",
            "[['bla', 'bla', 'bla', 'bla', 'bla', 'bla', 'bla'], ['bla', 'bla', 'bla', 'bla', 'bla', 'bla', 'bla']]\n"
          ]
        }
      ]
    },
    {
      "cell_type": "code",
      "source": [
        "livros = {\"Senhor dos Anéis\" : \"Ficção de aventura\", \"Perdida\" : \"Romance\", \"A garota do lago\" : \"Suspense\", \"Calculo\" : \"Educacional\", \"Harry Potter\" : \"Ficção de aventura\"}\n",
        "\n",
        "print(\"Livros disponiveis:\", livros.keys())\n",
        "\n",
        "while True:\n",
        "  nome = input(\"Digite o nome de um livro para obter seu genero. Se deseja encerrar digite 'encerre'. \")\n",
        "\n",
        "  if nome == \"encerre\" :\n",
        "    print(\"Agradecemos a preferência, volte sempre!\")\n",
        "    break\n",
        "\n",
        "  if nome in livros :\n",
        "    print(\"O genero do livro\", nome, \"eh\", livros[nome])\n",
        "  else:\n",
        "    print(\"O livro nao foi encontrado no sistema.\")"
      ],
      "metadata": {
        "colab": {
          "base_uri": "https://localhost:8080/"
        },
        "id": "41XMgRfFdM-s",
        "outputId": "d5aa342a-ac3e-44ea-a216-f5c5f889e94d"
      },
      "execution_count": null,
      "outputs": [
        {
          "output_type": "stream",
          "name": "stdout",
          "text": [
            "Livros disponiveis: dict_keys(['Senhor dos Anéis', 'Perdida', 'A garota do lago', 'Calculo', 'Harry Potter'])\n",
            "Digite o nome de um livro para obter seu genero. Se deseja encerrar digite 'encerre'. a garota\n",
            "O livro nao foi encontrado no sistema.\n",
            "Digite o nome de um livro para obter seu genero. Se deseja encerrar digite 'encerre'. encerre\n",
            "Agradecemos a preferência, volte sempre!\n"
          ]
        }
      ]
    },
    {
      "cell_type": "code",
      "source": [
        "estoque = []\n",
        "\n",
        "while True:\n",
        "  lista = {}\n",
        "  nome = input(\"Digite o nome do produto: \")\n",
        "  tamanho = input(\"Digite o tamanho do produto: \")\n",
        "  cor = input(\"Digite a cor do produto: \")\n",
        "  preco = float(input(\"Digite a preço do produto: \"))\n",
        "  quantidade = int(input(\"Digite a quantidade do produto em estoque: \"))\n",
        "\n",
        "  lista[nome] = [tamanho, cor, preco, quantidade]\n",
        "\n",
        "  estoque.append(lista)\n",
        "  produto = input(\"Você deseja inserir informações de outro produto? Digite sim ou não: \")\n",
        "  if (produto == \"não\"):\n",
        "    print(estoque)\n",
        "    break"
      ],
      "metadata": {
        "colab": {
          "base_uri": "https://localhost:8080/",
          "height": 407
        },
        "id": "1Lu8FLclOpLQ",
        "outputId": "f3439068-6619-4b3e-ec71-f2e28d020696"
      },
      "execution_count": null,
      "outputs": [
        {
          "name": "stdout",
          "output_type": "stream",
          "text": [
            "Digite o nome do produto: tinta\n"
          ]
        },
        {
          "output_type": "error",
          "ename": "KeyboardInterrupt",
          "evalue": "ignored",
          "traceback": [
            "\u001b[0;31m---------------------------------------------------------------------------\u001b[0m",
            "\u001b[0;31mKeyboardInterrupt\u001b[0m                         Traceback (most recent call last)",
            "\u001b[0;32m<ipython-input-56-0e41c5fd36ce>\u001b[0m in \u001b[0;36m<cell line: 3>\u001b[0;34m()\u001b[0m\n\u001b[1;32m      4\u001b[0m   \u001b[0mlista\u001b[0m \u001b[0;34m=\u001b[0m \u001b[0;34m{\u001b[0m\u001b[0;34m}\u001b[0m\u001b[0;34m\u001b[0m\u001b[0;34m\u001b[0m\u001b[0m\n\u001b[1;32m      5\u001b[0m   \u001b[0mnome\u001b[0m \u001b[0;34m=\u001b[0m \u001b[0minput\u001b[0m\u001b[0;34m(\u001b[0m\u001b[0;34m\"Digite o nome do produto: \"\u001b[0m\u001b[0;34m)\u001b[0m\u001b[0;34m\u001b[0m\u001b[0;34m\u001b[0m\u001b[0m\n\u001b[0;32m----> 6\u001b[0;31m   \u001b[0mtamanho\u001b[0m \u001b[0;34m=\u001b[0m \u001b[0minput\u001b[0m\u001b[0;34m(\u001b[0m\u001b[0;34m\"Digite o tamanho do produto: \"\u001b[0m\u001b[0;34m)\u001b[0m\u001b[0;34m\u001b[0m\u001b[0;34m\u001b[0m\u001b[0m\n\u001b[0m\u001b[1;32m      7\u001b[0m   \u001b[0mcor\u001b[0m \u001b[0;34m=\u001b[0m \u001b[0minput\u001b[0m\u001b[0;34m(\u001b[0m\u001b[0;34m\"Digite a cor do produto: \"\u001b[0m\u001b[0;34m)\u001b[0m\u001b[0;34m\u001b[0m\u001b[0;34m\u001b[0m\u001b[0m\n\u001b[1;32m      8\u001b[0m   \u001b[0mpreco\u001b[0m \u001b[0;34m=\u001b[0m \u001b[0mfloat\u001b[0m\u001b[0;34m(\u001b[0m\u001b[0minput\u001b[0m\u001b[0;34m(\u001b[0m\u001b[0;34m\"Digite a preço do produto: \"\u001b[0m\u001b[0;34m)\u001b[0m\u001b[0;34m)\u001b[0m\u001b[0;34m\u001b[0m\u001b[0;34m\u001b[0m\u001b[0m\n",
            "\u001b[0;32m/usr/local/lib/python3.10/dist-packages/ipykernel/kernelbase.py\u001b[0m in \u001b[0;36mraw_input\u001b[0;34m(self, prompt)\u001b[0m\n\u001b[1;32m    849\u001b[0m                 \u001b[0;34m\"raw_input was called, but this frontend does not support input requests.\"\u001b[0m\u001b[0;34m\u001b[0m\u001b[0;34m\u001b[0m\u001b[0m\n\u001b[1;32m    850\u001b[0m             )\n\u001b[0;32m--> 851\u001b[0;31m         return self._input_request(str(prompt),\n\u001b[0m\u001b[1;32m    852\u001b[0m             \u001b[0mself\u001b[0m\u001b[0;34m.\u001b[0m\u001b[0m_parent_ident\u001b[0m\u001b[0;34m,\u001b[0m\u001b[0;34m\u001b[0m\u001b[0;34m\u001b[0m\u001b[0m\n\u001b[1;32m    853\u001b[0m             \u001b[0mself\u001b[0m\u001b[0;34m.\u001b[0m\u001b[0m_parent_header\u001b[0m\u001b[0;34m,\u001b[0m\u001b[0;34m\u001b[0m\u001b[0;34m\u001b[0m\u001b[0m\n",
            "\u001b[0;32m/usr/local/lib/python3.10/dist-packages/ipykernel/kernelbase.py\u001b[0m in \u001b[0;36m_input_request\u001b[0;34m(self, prompt, ident, parent, password)\u001b[0m\n\u001b[1;32m    893\u001b[0m             \u001b[0;32mexcept\u001b[0m \u001b[0mKeyboardInterrupt\u001b[0m\u001b[0;34m:\u001b[0m\u001b[0;34m\u001b[0m\u001b[0;34m\u001b[0m\u001b[0m\n\u001b[1;32m    894\u001b[0m                 \u001b[0;31m# re-raise KeyboardInterrupt, to truncate traceback\u001b[0m\u001b[0;34m\u001b[0m\u001b[0;34m\u001b[0m\u001b[0m\n\u001b[0;32m--> 895\u001b[0;31m                 \u001b[0;32mraise\u001b[0m \u001b[0mKeyboardInterrupt\u001b[0m\u001b[0;34m(\u001b[0m\u001b[0;34m\"Interrupted by user\"\u001b[0m\u001b[0;34m)\u001b[0m \u001b[0;32mfrom\u001b[0m \u001b[0;32mNone\u001b[0m\u001b[0;34m\u001b[0m\u001b[0;34m\u001b[0m\u001b[0m\n\u001b[0m\u001b[1;32m    896\u001b[0m             \u001b[0;32mexcept\u001b[0m \u001b[0mException\u001b[0m \u001b[0;32mas\u001b[0m \u001b[0me\u001b[0m\u001b[0;34m:\u001b[0m\u001b[0;34m\u001b[0m\u001b[0;34m\u001b[0m\u001b[0m\n\u001b[1;32m    897\u001b[0m                 \u001b[0mself\u001b[0m\u001b[0;34m.\u001b[0m\u001b[0mlog\u001b[0m\u001b[0;34m.\u001b[0m\u001b[0mwarning\u001b[0m\u001b[0;34m(\u001b[0m\u001b[0;34m\"Invalid Message:\"\u001b[0m\u001b[0;34m,\u001b[0m \u001b[0mexc_info\u001b[0m\u001b[0;34m=\u001b[0m\u001b[0;32mTrue\u001b[0m\u001b[0;34m)\u001b[0m\u001b[0;34m\u001b[0m\u001b[0;34m\u001b[0m\u001b[0m\n",
            "\u001b[0;31mKeyboardInterrupt\u001b[0m: Interrupted by user"
          ]
        }
      ]
    },
    {
      "cell_type": "code",
      "source": [
        "estoque0 = [{'tinta': ['p', 'rosa', 10.0, 3]}, {'papel': ['m', 'branco', 5.0, 5]}]\n",
        "carrinho = []\n",
        "\n",
        "compra_nova = input(\"Voce deseja adicionar um item ao carrinho? Digite Sim ou Nao. \")\n",
        "\n",
        "while compra_nova == \"Sim\":\n",
        "  nome_compra = input(\"Digite o nome do produto que deseja comprar: \")\n",
        "\n",
        "\n",
        "  for i in estoque0:\n",
        "    if nome_compra in i:\n",
        "      compra = {}\n",
        "      quant_carrinho = float(input(\"Digite a quantidade desejada: \"))\n",
        "      preco_carrinho = quant_carrinho * i[nome_compra][2]\n",
        "      compra[nome_compra] = [quant_carrinho, preco_carrinho]\n",
        "      i[nome_compra][3]-= quant_carrinho\n",
        "      print(compra)\n",
        "\n",
        "  compra_nova = input(\"Voce deseja adicionar um item ao carrinho? Digite Sim ou Nao. \")\n",
        "\n",
        "print(estoque0)\n"
      ],
      "metadata": {
        "id": "2GW-iYzIh4pl",
        "colab": {
          "base_uri": "https://localhost:8080/"
        },
        "outputId": "2aae4b85-299a-41bd-f722-dd1c3e0cb1bb"
      },
      "execution_count": null,
      "outputs": [
        {
          "output_type": "stream",
          "name": "stdout",
          "text": [
            "Voce deseja adicionar um item ao carrinho? Digite Sim ou Nao. Sim\n",
            "Digite o nome do produto que deseja comprar: tinta\n",
            "Digite a quantidade desejada: 2\n",
            "Voce deseja adicionar um item ao carrinho? Digite Sim ou Nao. Sim\n",
            "Digite o nome do produto que deseja comprar: papel\n",
            "Digite a quantidade desejada: 1\n",
            "Voce deseja adicionar um item ao carrinho? Digite Sim ou Nao. Nao\n",
            "{'papel': [1.0, 5.0]}\n",
            "[{'tinta': ['p', 'rosa', 10.0, 1.0]}, {'papel': ['m', 'branco', 5.0, 4.0]}]\n"
          ]
        }
      ]
    },
    {
      "cell_type": "code",
      "source": [
        "black_friday = {\n",
        "  \"minha_lista\" : {\n",
        "      \"mouse\" : 2,\n",
        "      \"caderneta\": 5,\n",
        "      \"caneta\": 10,\n",
        "  },\n",
        "  \"lista_amiga\" : {\n",
        "      \"mouse\" : 1,\n",
        "      \"caderneta\": 3,\n",
        "      \"caneta\": 15,\n",
        "  },\n",
        "}\n",
        "\n",
        "#print(\"Minha Lista:\", black_friday[\"minha_lista\"])\n",
        "#print(\"Minha Lista:\", black_friday[\"lista_amiga\"])\n",
        "\n",
        "for item in black_friday:\n",
        "  print(item.title())\n",
        "  print(f\"Mouse:{black_friday[item]['mouse']}, Caderneta:{black_friday[item]['caderneta']}, Caneta:{black_friday[item]['caneta']}\")"
      ],
      "metadata": {
        "colab": {
          "base_uri": "https://localhost:8080/"
        },
        "id": "2KduKRctWczI",
        "outputId": "7191a439-f0c0-43ab-bdc3-ecefd441198b"
      },
      "execution_count": null,
      "outputs": [
        {
          "output_type": "stream",
          "name": "stdout",
          "text": [
            "Minha_Lista\n",
            "Mouse:2, Caderneta:5, Caneta:10\n",
            "Lista_Amiga\n",
            "Mouse:1, Caderneta:3, Caneta:15\n"
          ]
        }
      ]
    },
    {
      "cell_type": "code",
      "source": [
        "def soma_notas(lista, soma):\n",
        "  soma = 0\n",
        "  for i in lista:\n",
        "    soma += i\n",
        "  return soma\n",
        "\n",
        "def media(lista, s):\n",
        "  media = s / 3\n",
        "  return media\n",
        "\n",
        "def conceito(lista, s, m):\n",
        "  if m >= 9.0 :\n",
        "    return \"A\"\n",
        "  elif m >= 7.5 :\n",
        "    return \"B\"\n",
        "  elif m >= 6.5 :\n",
        "    return \"C\"\n",
        "  elif m >= 5.0 :\n",
        "    return \"D\"\n",
        "  else:\n",
        "    return \"F\"\n",
        "\n",
        "#programa principal:\n",
        "lista = []\n",
        "\n",
        "for i in range(0,3):\n",
        "  nota = float(input(\"Insira a nota: \"))\n",
        "  lista.append(nota)\n",
        "\n",
        "s = soma_notas(lista,soma)\n",
        "m = media(lista, s)\n",
        "c = conceito(lista, s, m)\n",
        "\n",
        "print(\"Soma: %.2f\"%s)\n",
        "print(\"Media: %.2f\"%m)\n",
        "print(\"Conceito final: \", c)"
      ],
      "metadata": {
        "colab": {
          "base_uri": "https://localhost:8080/"
        },
        "id": "JyOm6ZteIXda",
        "outputId": "002413c3-ca88-47c6-c7c6-8f289776989a"
      },
      "execution_count": null,
      "outputs": [
        {
          "output_type": "stream",
          "name": "stdout",
          "text": [
            "Insira a nota: 6\n",
            "Insira a nota: 8\n",
            "Insira a nota: 3\n",
            "Soma: 17.00\n",
            "Media: 5.67\n",
            "Conceito final:  D\n"
          ]
        }
      ]
    },
    {
      "cell_type": "code",
      "source": [
        "import math\n",
        "\n",
        "raio = float(input(\"Digite o raio da piscina: \"))\n",
        "altura = float(input(\"Digite a altura da piscina: \"))\n",
        "\n",
        "area = math.pi * raio**2\n",
        "volume = area * altura\n",
        "\n",
        "print(\"Sua piscina tem %.2f\"%volume,\" litros de água.\")"
      ],
      "metadata": {
        "colab": {
          "base_uri": "https://localhost:8080/"
        },
        "id": "UqevKAb8hluY",
        "outputId": "c557cffa-a44f-4b51-ca31-5f5f3298441c"
      },
      "execution_count": null,
      "outputs": [
        {
          "output_type": "stream",
          "name": "stdout",
          "text": [
            "Digite o raio da piscina: 6\n",
            "Digite a altura da piscina: 1.5\n",
            "Sua piscina tem 169.65  litros de água.\n"
          ]
        }
      ]
    },
    {
      "cell_type": "markdown",
      "source": [
        "**Desafio:**"
      ],
      "metadata": {
        "id": "_UFtYRgEUTuM"
      }
    },
    {
      "cell_type": "code",
      "source": [
        "#Autenticação no colab\n",
        "from google.colab import auth\n",
        "auth.authenticate_user()\n",
        "\n",
        "#Conexão com o Google Sheets\n",
        "import gspread\n",
        "from google.auth import default\n",
        "creds, _ = default()\n",
        "\n",
        "gc = gspread.authorize(creds)\n",
        "\n",
        "nova_planilha = gc.create(\"Estoque\")"
      ],
      "metadata": {
        "id": "QF2OOI5Dn8Ct"
      },
      "execution_count": null,
      "outputs": []
    },
    {
      "cell_type": "code",
      "source": [
        "x = \"4\"\n",
        "y = \"5\"\n",
        "\n",
        "informacoes = nova_planilha.add_worksheet(title=\"Informações do produto\", rows=x, cols=y)"
      ],
      "metadata": {
        "id": "7S_qvEYWQL1Q"
      },
      "execution_count": null,
      "outputs": []
    },
    {
      "cell_type": "code",
      "source": [
        "estoque = []\n",
        "\n",
        "while True:\n",
        "\n",
        "  nome = input(\"Digite o nome do produto: \")\n",
        "  tamanho = input(\"Digite o tamanho do produto: \")\n",
        "  cor = input(\"Digite a cor do produto: \")\n",
        "  preco = float(input(\"Digite a preço do produto: \"))\n",
        "  quantidade = int(input(\"Digite a quantidade do produto em estoque: \"))\n",
        "\n",
        "  estoque.append([nome, tamanho, cor, preco, quantidade])\n",
        "\n",
        "  produto = input(\"Você deseja inserir informações de outro produto? Digite sim ou não: \")\n",
        "  if (produto == \"não\"):\n",
        "    break"
      ],
      "metadata": {
        "colab": {
          "base_uri": "https://localhost:8080/"
        },
        "id": "GTeCw7sWO7Ub",
        "outputId": "0e67f67c-b56b-4f8e-9912-9f98fd855eab"
      },
      "execution_count": null,
      "outputs": [
        {
          "name": "stdout",
          "output_type": "stream",
          "text": [
            "Digite o nome do produto: Tinta\n",
            "Digite o tamanho do produto: M\n",
            "Digite a cor do produto: Rosa\n",
            "Digite a preço do produto: 10.99\n",
            "Digite a quantidade do produto em estoque: 5\n",
            "Você deseja inserir informações de outro produto? Digite sim ou não: Lapis\n",
            "Digite o nome do produto: Lapis\n",
            "Digite o tamanho do produto: P\n",
            "Digite a cor do produto: Azul\n",
            "Digite a preço do produto: 0.99\n",
            "Digite a quantidade do produto em estoque: 4\n",
            "Você deseja inserir informações de outro produto? Digite sim ou não: não\n"
          ]
        }
      ]
    },
    {
      "cell_type": "code",
      "source": [
        "informacoes.append_row([\"Produto\", \"Tamanho\", \"Cor\", \"Preço\", \"Quantidade\"])"
      ],
      "metadata": {
        "colab": {
          "base_uri": "https://localhost:8080/"
        },
        "id": "cPS5g02TUl-w",
        "outputId": "16e259c7-8deb-4111-cb63-37621db7d097"
      },
      "execution_count": null,
      "outputs": [
        {
          "output_type": "execute_result",
          "data": {
            "text/plain": [
              "{'spreadsheetId': '1Q7PgjazWVohJHyR1QsEINCn23FCiHJA7T2Uq9uCs-U0',\n",
              " 'updates': {'spreadsheetId': '1Q7PgjazWVohJHyR1QsEINCn23FCiHJA7T2Uq9uCs-U0',\n",
              "  'updatedRange': \"'Informações do produto'!A1:E1\",\n",
              "  'updatedRows': 1,\n",
              "  'updatedColumns': 5,\n",
              "  'updatedCells': 5}}"
            ]
          },
          "metadata": {},
          "execution_count": 51
        }
      ]
    },
    {
      "cell_type": "code",
      "source": [
        "for i in estoque:\n",
        "  print(i)\n",
        "  informacoes.append_row(i)"
      ],
      "metadata": {
        "colab": {
          "base_uri": "https://localhost:8080/"
        },
        "id": "ywTuO4mOS2Za",
        "outputId": "665cc88f-5c86-481d-815f-3cd6b4e93753"
      },
      "execution_count": null,
      "outputs": [
        {
          "output_type": "stream",
          "name": "stdout",
          "text": [
            "['Tinta', 'M', 'Rosa', 10.99, 5]\n",
            "['Lapis', 'P', 'Azul', 0.99, 4]\n"
          ]
        }
      ]
    },
    {
      "cell_type": "code",
      "source": [
        "c = \"4\"\n",
        "\n",
        "vendas = nova_planilha.add_worksheet(title=\"Vendas\", rows=x, cols=c)\n",
        "\n",
        "vendas.append_row([\"Produto\", \"Quantidade comprada\", \"Preço total\"])"
      ],
      "metadata": {
        "colab": {
          "base_uri": "https://localhost:8080/"
        },
        "id": "gWs1xzvEZIwv",
        "outputId": "85fb69bf-e2c7-4189-89fa-cf88526df76d"
      },
      "execution_count": null,
      "outputs": [
        {
          "output_type": "execute_result",
          "data": {
            "text/plain": [
              "{'spreadsheetId': '1Q7PgjazWVohJHyR1QsEINCn23FCiHJA7T2Uq9uCs-U0',\n",
              " 'updates': {'spreadsheetId': '1Q7PgjazWVohJHyR1QsEINCn23FCiHJA7T2Uq9uCs-U0',\n",
              "  'updatedRange': 'Vendas!A1:C1',\n",
              "  'updatedRows': 1,\n",
              "  'updatedColumns': 3,\n",
              "  'updatedCells': 3}}"
            ]
          },
          "metadata": {},
          "execution_count": 56
        }
      ]
    },
    {
      "cell_type": "code",
      "source": [
        "while True:\n",
        "  nome_compra = input(\"Digite o nome do produto que deseja comprar: \")\n",
        "  vendas.append_row(nome_compra)\n",
        "\n",
        "  for i in estoque:\n",
        "    if nome_compra in i:\n",
        "      compra = {}\n",
        "      quant_carrinho = int(input(\"Digite a quantidade desejada: \"))\n",
        "\n",
        "\n",
        "      compra_nova = input(\"Voce deseja continuar as compras? Digite 1 para Sim ou 2 para Nao. \")\n",
        "\n",
        "    if compra_nova == 2:\n",
        "      break"
      ],
      "metadata": {
        "colab": {
          "base_uri": "https://localhost:8080/",
          "height": 279
        },
        "id": "sV2G9Uz5XIQi",
        "outputId": "88c77c27-6e7e-43a5-9ec4-a821fbdb0dbd"
      },
      "execution_count": null,
      "outputs": [
        {
          "name": "stdout",
          "output_type": "stream",
          "text": [
            "Digite o nome do produto que deseja comprar: Tinta\n",
            "Digite a quantidade desejada: 2\n"
          ]
        },
        {
          "output_type": "error",
          "ename": "TypeError",
          "evalue": "ignored",
          "traceback": [
            "\u001b[0;31m---------------------------------------------------------------------------\u001b[0m",
            "\u001b[0;31mTypeError\u001b[0m                                 Traceback (most recent call last)",
            "\u001b[0;32m<ipython-input-57-772648d2f2ca>\u001b[0m in \u001b[0;36m<cell line: 1>\u001b[0;34m()\u001b[0m\n\u001b[1;32m      6\u001b[0m       \u001b[0mcompra\u001b[0m \u001b[0;34m=\u001b[0m \u001b[0;34m{\u001b[0m\u001b[0;34m}\u001b[0m\u001b[0;34m\u001b[0m\u001b[0;34m\u001b[0m\u001b[0m\n\u001b[1;32m      7\u001b[0m       \u001b[0mquant_carrinho\u001b[0m \u001b[0;34m=\u001b[0m \u001b[0mint\u001b[0m\u001b[0;34m(\u001b[0m\u001b[0minput\u001b[0m\u001b[0;34m(\u001b[0m\u001b[0;34m\"Digite a quantidade desejada: \"\u001b[0m\u001b[0;34m)\u001b[0m\u001b[0;34m)\u001b[0m\u001b[0;34m\u001b[0m\u001b[0;34m\u001b[0m\u001b[0m\n\u001b[0;32m----> 8\u001b[0;31m       \u001b[0mpreco_carrinho\u001b[0m \u001b[0;34m=\u001b[0m \u001b[0mquant_carrinho\u001b[0m \u001b[0;34m*\u001b[0m \u001b[0mi\u001b[0m\u001b[0;34m[\u001b[0m\u001b[0mnome_compra\u001b[0m\u001b[0;34m]\u001b[0m\u001b[0;34m[\u001b[0m\u001b[0;36m2\u001b[0m\u001b[0;34m]\u001b[0m\u001b[0;34m\u001b[0m\u001b[0;34m\u001b[0m\u001b[0m\n\u001b[0m\u001b[1;32m      9\u001b[0m       \u001b[0mcompra\u001b[0m\u001b[0;34m[\u001b[0m\u001b[0mnome_compra\u001b[0m\u001b[0;34m]\u001b[0m \u001b[0;34m=\u001b[0m \u001b[0;34m[\u001b[0m\u001b[0mquant_carrinho\u001b[0m\u001b[0;34m,\u001b[0m \u001b[0mpreco_carrinho\u001b[0m\u001b[0;34m]\u001b[0m\u001b[0;34m\u001b[0m\u001b[0;34m\u001b[0m\u001b[0m\n\u001b[1;32m     10\u001b[0m       \u001b[0mi\u001b[0m\u001b[0;34m[\u001b[0m\u001b[0mnome_compra\u001b[0m\u001b[0;34m]\u001b[0m\u001b[0;34m[\u001b[0m\u001b[0;36m3\u001b[0m\u001b[0;34m]\u001b[0m\u001b[0;34m-=\u001b[0m \u001b[0mquant_carrinho\u001b[0m\u001b[0;34m\u001b[0m\u001b[0;34m\u001b[0m\u001b[0m\n",
            "\u001b[0;31mTypeError\u001b[0m: list indices must be integers or slices, not str"
          ]
        }
      ]
    }
  ]
}